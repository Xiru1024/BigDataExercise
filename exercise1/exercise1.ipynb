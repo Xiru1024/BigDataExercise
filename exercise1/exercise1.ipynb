{
 "cells": [
  {
   "cell_type": "code",
   "execution_count": 1,
   "id": "d5bc3548-5bff-45cd-9e27-7d03b1e8a245",
   "metadata": {},
   "outputs": [],
   "source": [
    "%matplotlib inline \n",
    "%config InlineBackend.figure_format = 'retina' \n",
    "from IPython.core.interactiveshell import InteractiveShell \n",
    "InteractiveShell.ast_node_interactivity = \"all\"\n",
    "import sys\n",
    "import requests\n",
    "from pyspark.sql import SparkSession, functions as F\n",
    "#parameter for master can be changed depending on the environment"
   ]
  },
  {
   "cell_type": "code",
   "execution_count": 2,
   "id": "93b88d2d-ce83-4f65-8e5c-348dd78ced0a",
   "metadata": {},
   "outputs": [],
   "source": [
    "spark = SparkSession.builder.master(\"local\").appName(\"Exercise1\").getOrCreate()"
   ]
  },
  {
   "cell_type": "code",
   "execution_count": 3,
   "id": "e78b0f2c-aebc-47ff-b5a5-b7893aa66a87",
   "metadata": {},
   "outputs": [
    {
     "data": {
      "text/plain": [
       "17430727"
      ]
     },
     "execution_count": 3,
     "metadata": {},
     "output_type": "execute_result"
    }
   ],
   "source": [
    "url = \"https://raw.githubusercontent.com/Xiru1024/BigDataExercise/refs/heads/main/exampleData.csv\"\n",
    "local_path = \"/home/jovyan/BigDataExercise/exercise1/example.csv\"\n",
    "with open(local_path, \"wb\") as f:\n",
    "    f.write(requests.get(url).content)"
   ]
  },
  {
   "cell_type": "code",
   "execution_count": 4,
   "id": "4203b2b0-e7d7-4a83-b829-44d13fe66b1a",
   "metadata": {
    "scrolled": true
   },
   "outputs": [
    {
     "name": "stdout",
     "output_type": "stream",
     "text": [
      "-RECORD 0--------------------------------\n",
      " _c0                 | 14                \n",
      " dateTime            | 01-jan-1990 00:00 \n",
      " indicator_rain      | 0                 \n",
      " precipitation       | 0.3               \n",
      " indicator_temp      | 0                 \n",
      " air_temperature     | 9.1               \n",
      " indicator_wetb      | 0                 \n",
      " wetb                | 9.0               \n",
      " dewpt               | 8.9               \n",
      " vappr               | 11.4              \n",
      " relative_humidity   | 99                \n",
      " msl                 | 1006.7            \n",
      " indicator_wdsp      | 2                 \n",
      " wind_speed          | 7                 \n",
      " indicator_wddir     | 2                 \n",
      " wind_from_direction | 190               \n",
      "-RECORD 1--------------------------------\n",
      " _c0                 | 15                \n",
      " dateTime            | 01-jan-1990 01:00 \n",
      " indicator_rain      | 0                 \n",
      " precipitation       | 0.2               \n",
      " indicator_temp      | 0                 \n",
      " air_temperature     | 8.2               \n",
      " indicator_wetb      | 0                 \n",
      " wetb                | 7.4               \n",
      " dewpt               | 6.4               \n",
      " vappr               | 9.7               \n",
      " relative_humidity   | 89                \n",
      " msl                 | 1006.7            \n",
      " indicator_wdsp      | 2                 \n",
      " wind_speed          | 5                 \n",
      " indicator_wddir     | 2                 \n",
      " wind_from_direction | 220               \n",
      "-RECORD 2--------------------------------\n",
      " _c0                 | 16                \n",
      " dateTime            | 01-jan-1990 02:00 \n",
      " indicator_rain      | 0                 \n",
      " precipitation       | 0.0               \n",
      " indicator_temp      | 0                 \n",
      " air_temperature     | 7.9               \n",
      " indicator_wetb      | 0                 \n",
      " wetb                | 7.4               \n",
      " dewpt               | 6.8               \n",
      " vappr               | 9.9               \n",
      " relative_humidity   | 93                \n",
      " msl                 | 1006.9            \n",
      " indicator_wdsp      | 2                 \n",
      " wind_speed          | 1                 \n",
      " indicator_wddir     | 2                 \n",
      " wind_from_direction | 190               \n",
      "-RECORD 3--------------------------------\n",
      " _c0                 | 17                \n",
      " dateTime            | 01-jan-1990 03:00 \n",
      " indicator_rain      | 3                 \n",
      " precipitation       | 0.0               \n",
      " indicator_temp      | 0                 \n",
      " air_temperature     | 7.8               \n",
      " indicator_wetb      | 0                 \n",
      " wetb                | 7.5               \n",
      " dewpt               | 7.1               \n",
      " vappr               | 10.1              \n",
      " relative_humidity   | 96                \n",
      " msl                 | 1007.1            \n",
      " indicator_wdsp      | 2                 \n",
      " wind_speed          | 1                 \n",
      " indicator_wddir     | 2                 \n",
      " wind_from_direction | 190               \n",
      "-RECORD 4--------------------------------\n",
      " _c0                 | 18                \n",
      " dateTime            | 01-jan-1990 04:00 \n",
      " indicator_rain      | 3                 \n",
      " precipitation       | 0.0               \n",
      " indicator_temp      | 0                 \n",
      " air_temperature     | 8.0               \n",
      " indicator_wetb      | 0                 \n",
      " wetb                | 7.3               \n",
      " dewpt               | 6.5               \n",
      " vappr               | 9.7               \n",
      " relative_humidity   | 90                \n",
      " msl                 | 1007.3            \n",
      " indicator_wdsp      | 2                 \n",
      " wind_speed          | 2                 \n",
      " indicator_wddir     | 2                 \n",
      " wind_from_direction | 220               \n",
      "-RECORD 5--------------------------------\n",
      " _c0                 | 19                \n",
      " dateTime            | 01-jan-1990 05:00 \n",
      " indicator_rain      | 0                 \n",
      " precipitation       | 0.0               \n",
      " indicator_temp      | 0                 \n",
      " air_temperature     | 7.6               \n",
      " indicator_wetb      | 0                 \n",
      " wetb                | 7.0               \n",
      " dewpt               | 6.3               \n",
      " vappr               | 9.5               \n",
      " relative_humidity   | 91                \n",
      " msl                 | 1007.4            \n",
      " indicator_wdsp      | 2                 \n",
      " wind_speed          | 3                 \n",
      " indicator_wddir     | 2                 \n",
      " wind_from_direction | 220               \n",
      "-RECORD 6--------------------------------\n",
      " _c0                 | 20                \n",
      " dateTime            | 01-jan-1990 06:00 \n",
      " indicator_rain      | 2                 \n",
      " precipitation       | 0.0               \n",
      " indicator_temp      | 0                 \n",
      " air_temperature     | 7.4               \n",
      " indicator_wetb      | 0                 \n",
      " wetb                | 6.8               \n",
      " dewpt               | 6.1               \n",
      " vappr               | 9.4               \n",
      " relative_humidity   | 91                \n",
      " msl                 | 1008.1            \n",
      " indicator_wdsp      | 2                 \n",
      " wind_speed          | 1                 \n",
      " indicator_wddir     | 2                 \n",
      " wind_from_direction | 220               \n",
      "-RECORD 7--------------------------------\n",
      " _c0                 | 21                \n",
      " dateTime            | 01-jan-1990 07:00 \n",
      " indicator_rain      | 2                 \n",
      " precipitation       | 0.0               \n",
      " indicator_temp      | 0                 \n",
      " air_temperature     | 6.8               \n",
      " indicator_wetb      | 0                 \n",
      " wetb                | 6.0               \n",
      " dewpt               | 5.0               \n",
      " vappr               | 8.7               \n",
      " relative_humidity   | 88                \n",
      " msl                 | 1008.3            \n",
      " indicator_wdsp      | 2                 \n",
      " wind_speed          | 4                 \n",
      " indicator_wddir     | 2                 \n",
      " wind_from_direction | 230               \n",
      "-RECORD 8--------------------------------\n",
      " _c0                 | 22                \n",
      " dateTime            | 01-jan-1990 08:00 \n",
      " indicator_rain      | 2                 \n",
      " precipitation       | 0.0               \n",
      " indicator_temp      | 0                 \n",
      " air_temperature     | 6.8               \n",
      " indicator_wetb      | 0                 \n",
      " wetb                | 6.2               \n",
      " dewpt               | 5.5               \n",
      " vappr               | 9.0               \n",
      " relative_humidity   | 91                \n",
      " msl                 | 1008.8            \n",
      " indicator_wdsp      | 2                 \n",
      " wind_speed          | 2                 \n",
      " indicator_wddir     | 2                 \n",
      " wind_from_direction | 180               \n",
      "-RECORD 9--------------------------------\n",
      " _c0                 | 23                \n",
      " dateTime            | 01-jan-1990 09:00 \n",
      " indicator_rain      | 0                 \n",
      " precipitation       | 0.0               \n",
      " indicator_temp      | 0                 \n",
      " air_temperature     | 7.2               \n",
      " indicator_wetb      | 0                 \n",
      " wetb                | 6.1               \n",
      " dewpt               | 4.7               \n",
      " vappr               | 8.5               \n",
      " relative_humidity   | 84                \n",
      " msl                 | 1009.4            \n",
      " indicator_wdsp      | 2                 \n",
      " wind_speed          | 1                 \n",
      " indicator_wddir     | 2                 \n",
      " wind_from_direction | 210               \n",
      "-RECORD 10-------------------------------\n",
      " _c0                 | 24                \n",
      " dateTime            | 01-jan-1990 10:00 \n",
      " indicator_rain      | 0                 \n",
      " precipitation       | 0.0               \n",
      " indicator_temp      | 0                 \n",
      " air_temperature     | 7.6               \n",
      " indicator_wetb      | 0                 \n",
      " wetb                | 6.1               \n",
      " dewpt               | 4.2               \n",
      " vappr               | 8.2               \n",
      " relative_humidity   | 79                \n",
      " msl                 | 1009.7            \n",
      " indicator_wdsp      | 2                 \n",
      " wind_speed          | 1                 \n",
      " indicator_wddir     | 2                 \n",
      " wind_from_direction | 210               \n",
      "-RECORD 11-------------------------------\n",
      " _c0                 | 25                \n",
      " dateTime            | 01-jan-1990 11:00 \n",
      " indicator_rain      | 0                 \n",
      " precipitation       | 0.0               \n",
      " indicator_temp      | 0                 \n",
      " air_temperature     | 8.0               \n",
      " indicator_wetb      | 0                 \n",
      " wetb                | 6.6               \n",
      " dewpt               | 4.8               \n",
      " vappr               | 8.6               \n",
      " relative_humidity   | 80                \n",
      " msl                 | 1010.2            \n",
      " indicator_wdsp      | 2                 \n",
      " wind_speed          | 5                 \n",
      " indicator_wddir     | 2                 \n",
      " wind_from_direction | 210               \n",
      "-RECORD 12-------------------------------\n",
      " _c0                 | 26                \n",
      " dateTime            | 01-jan-1990 12:00 \n",
      " indicator_rain      | 0                 \n",
      " precipitation       | 0.0               \n",
      " indicator_temp      | 0                 \n",
      " air_temperature     | 9.5               \n",
      " indicator_wetb      | 0                 \n",
      " wetb                | 7.8               \n",
      " dewpt               | 5.8               \n",
      " vappr               | 9.2               \n",
      " relative_humidity   | 78                \n",
      " msl                 | 1010.3            \n",
      " indicator_wdsp      | 2                 \n",
      " wind_speed          | 7                 \n",
      " indicator_wddir     | 2                 \n",
      " wind_from_direction | 200               \n",
      "-RECORD 13-------------------------------\n",
      " _c0                 | 27                \n",
      " dateTime            | 01-jan-1990 13:00 \n",
      " indicator_rain      | 0                 \n",
      " precipitation       | 0.0               \n",
      " indicator_temp      | 0                 \n",
      " air_temperature     | 9.3               \n",
      " indicator_wetb      | 0                 \n",
      " wetb                | 7.0               \n",
      " dewpt               | 4.1               \n",
      " vappr               | 8.2               \n",
      " relative_humidity   | 70                \n",
      " msl                 | 1010.1            \n",
      " indicator_wdsp      | 2                 \n",
      " wind_speed          | 9                 \n",
      " indicator_wddir     | 2                 \n",
      " wind_from_direction | 200               \n",
      "-RECORD 14-------------------------------\n",
      " _c0                 | 28                \n",
      " dateTime            | 01-jan-1990 14:00 \n",
      " indicator_rain      | 0                 \n",
      " precipitation       | 0.0               \n",
      " indicator_temp      | 0                 \n",
      " air_temperature     | 9.9               \n",
      " indicator_wetb      | 0                 \n",
      " wetb                | 8.0               \n",
      " dewpt               | 5.8               \n",
      " vappr               | 9.2               \n",
      " relative_humidity   | 75                \n",
      " msl                 | 1010.3            \n",
      " indicator_wdsp      | 2                 \n",
      " wind_speed          | 9                 \n",
      " indicator_wddir     | 2                 \n",
      " wind_from_direction | 190               \n",
      "-RECORD 15-------------------------------\n",
      " _c0                 | 29                \n",
      " dateTime            | 01-jan-1990 15:00 \n",
      " indicator_rain      | 0                 \n",
      " precipitation       | 0.0               \n",
      " indicator_temp      | 0                 \n",
      " air_temperature     | 9.0               \n",
      " indicator_wetb      | 0                 \n",
      " wetb                | 7.5               \n",
      " dewpt               | 5.7               \n",
      " vappr               | 9.2               \n",
      " relative_humidity   | 80                \n",
      " msl                 | 1010.2            \n",
      " indicator_wdsp      | 2                 \n",
      " wind_speed          | 7                 \n",
      " indicator_wddir     | 2                 \n",
      " wind_from_direction | 170               \n",
      "-RECORD 16-------------------------------\n",
      " _c0                 | 30                \n",
      " dateTime            | 01-jan-1990 16:00 \n",
      " indicator_rain      | 2                 \n",
      " precipitation       | 0.0               \n",
      " indicator_temp      | 0                 \n",
      " air_temperature     | 8.6               \n",
      " indicator_wetb      | 0                 \n",
      " wetb                | 7.1               \n",
      " dewpt               | 5.3               \n",
      " vappr               | 8.9               \n",
      " relative_humidity   | 80                \n",
      " msl                 | 1010.1            \n",
      " indicator_wdsp      | 2                 \n",
      " wind_speed          | 6                 \n",
      " indicator_wddir     | 2                 \n",
      " wind_from_direction | 170               \n",
      "-RECORD 17-------------------------------\n",
      " _c0                 | 31                \n",
      " dateTime            | 01-jan-1990 17:00 \n",
      " indicator_rain      | 0                 \n",
      " precipitation       | 0.0               \n",
      " indicator_temp      | 0                 \n",
      " air_temperature     | 8.2               \n",
      " indicator_wetb      | 0                 \n",
      " wetb                | 6.6               \n",
      " dewpt               | 4.5               \n",
      " vappr               | 8.5               \n",
      " relative_humidity   | 78                \n",
      " msl                 | 1010.3            \n",
      " indicator_wdsp      | 2                 \n",
      " wind_speed          | 5                 \n",
      " indicator_wddir     | 2                 \n",
      " wind_from_direction | 180               \n",
      "-RECORD 18-------------------------------\n",
      " _c0                 | 32                \n",
      " dateTime            | 01-jan-1990 18:00 \n",
      " indicator_rain      | 0                 \n",
      " precipitation       | 0.0               \n",
      " indicator_temp      | 0                 \n",
      " air_temperature     | 8.5               \n",
      " indicator_wetb      | 0                 \n",
      " wetb                | 7.1               \n",
      " dewpt               | 5.4               \n",
      " vappr               | 9.0               \n",
      " relative_humidity   | 81                \n",
      " msl                 | 1010.6            \n",
      " indicator_wdsp      | 2                 \n",
      " wind_speed          | 10                \n",
      " indicator_wddir     | 2                 \n",
      " wind_from_direction | 190               \n",
      "-RECORD 19-------------------------------\n",
      " _c0                 | 33                \n",
      " dateTime            | 01-jan-1990 19:00 \n",
      " indicator_rain      | 0                 \n",
      " precipitation       | 0.0               \n",
      " indicator_temp      | 0                 \n",
      " air_temperature     | 8.2               \n",
      " indicator_wetb      | 0                 \n",
      " wetb                | 6.8               \n",
      " dewpt               | 5.0               \n",
      " vappr               | 8.8               \n",
      " relative_humidity   | 81                \n",
      " msl                 | 1010.3            \n",
      " indicator_wdsp      | 2                 \n",
      " wind_speed          | 12                \n",
      " indicator_wddir     | 2                 \n",
      " wind_from_direction | 170               \n",
      "only showing top 20 rows\n",
      "\n"
     ]
    }
   ],
   "source": [
    "df = spark.read.csv(local_path, header=True, inferSchema=True) \n",
    "df.show(vertical=True)"
   ]
  },
  {
   "cell_type": "code",
   "execution_count": 5,
   "id": "f3bb54ab-b45e-4788-9852-c15433c6b3b5",
   "metadata": {},
   "outputs": [
    {
     "name": "stdout",
     "output_type": "stream",
     "text": [
      "root\n",
      " |-- _c0: integer (nullable = true)\n",
      " |-- dateTime: string (nullable = true)\n",
      " |-- indicator_rain: integer (nullable = true)\n",
      " |-- precipitation: string (nullable = true)\n",
      " |-- indicator_temp: integer (nullable = true)\n",
      " |-- air_temperature: string (nullable = true)\n",
      " |-- indicator_wetb: integer (nullable = true)\n",
      " |-- wetb: string (nullable = true)\n",
      " |-- dewpt: string (nullable = true)\n",
      " |-- vappr: string (nullable = true)\n",
      " |-- relative_humidity: string (nullable = true)\n",
      " |-- msl: string (nullable = true)\n",
      " |-- indicator_wdsp: integer (nullable = true)\n",
      " |-- wind_speed: string (nullable = true)\n",
      " |-- indicator_wddir: integer (nullable = true)\n",
      " |-- wind_from_direction: integer (nullable = true)\n",
      "\n"
     ]
    }
   ],
   "source": [
    "df.printSchema() "
   ]
  },
  {
   "cell_type": "code",
   "execution_count": 6,
   "id": "29d6bdca-8726-487b-b9b5-98c442f99377",
   "metadata": {},
   "outputs": [],
   "source": [
    "writePath = \"/home/jovyan/BigDataExercise/exercise1/written_example.csv\"\n",
    "df.write.mode(\"overwrite\").csv(writePath, header=True) "
   ]
  },
  {
   "cell_type": "code",
   "execution_count": 7,
   "id": "8a4ab3ce-aff4-42e0-b9be-c2d576a506ee",
   "metadata": {},
   "outputs": [],
   "source": [
    "df_id = df.withColumn(\"id\", F.monotonically_increasing_id())\n",
    "df = df_id.select(\"id\", *df.columns)"
   ]
  },
  {
   "cell_type": "code",
   "execution_count": 8,
   "id": "878a6914-2311-439a-bcc0-f73cf5e11383",
   "metadata": {},
   "outputs": [
    {
     "name": "stdout",
     "output_type": "stream",
     "text": [
      "+---------+-------------+\n",
      "|newColumn|roundedTemper|\n",
      "+---------+-------------+\n",
      "|     45.0|          9.0|\n",
      "|     37.0|          8.0|\n",
      "|     37.0|          8.0|\n",
      "|     37.5|          8.0|\n",
      "|     36.5|          8.0|\n",
      "|     35.0|          8.0|\n",
      "|     34.0|          7.0|\n",
      "|     30.0|          7.0|\n",
      "|     31.0|          7.0|\n",
      "|     30.5|          7.0|\n",
      "|     30.5|          8.0|\n",
      "|     33.0|          8.0|\n",
      "|     39.0|         10.0|\n",
      "|     35.0|          9.0|\n",
      "|     40.0|         10.0|\n",
      "|     37.5|          9.0|\n",
      "|     35.5|          9.0|\n",
      "|     33.0|          8.0|\n",
      "|     35.5|          9.0|\n",
      "|     34.0|          8.0|\n",
      "+---------+-------------+\n",
      "only showing top 20 rows\n",
      "\n"
     ]
    }
   ],
   "source": [
    "df.selectExpr(\"wetb * 5 as newColumn\", \"round(air_temperature) as roundedTemper\").show()"
   ]
  },
  {
   "cell_type": "code",
   "execution_count": 9,
   "id": "d6f06bf0-e384-4d38-a001-50cdbf6b4164",
   "metadata": {},
   "outputs": [
    {
     "name": "stdout",
     "output_type": "stream",
     "text": [
      "+---+---+-----------------+--------------+-------------+--------------+---------------+--------------+-----------+-----+-----+-----------------+------+--------------+----------+---------------+-------------------+\n",
      "| id|_c0|         dateTime|indicator_rain|precipitation|indicator_temp|air_temperature|indicator_wetb|rename_wetb|dewpt|vappr|relative_humidity|   msl|indicator_wdsp|wind_speed|indicator_wddir|wind_from_direction|\n",
      "+---+---+-----------------+--------------+-------------+--------------+---------------+--------------+-----------+-----+-----+-----------------+------+--------------+----------+---------------+-------------------+\n",
      "|  0| 14|01-jan-1990 00:00|             0|          0.3|             0|            9.1|             0|        9.0|  8.9| 11.4|               99|1006.7|             2|         7|              2|                190|\n",
      "|  1| 15|01-jan-1990 01:00|             0|          0.2|             0|            8.2|             0|        7.4|  6.4|  9.7|               89|1006.7|             2|         5|              2|                220|\n",
      "|  2| 16|01-jan-1990 02:00|             0|          0.0|             0|            7.9|             0|        7.4|  6.8|  9.9|               93|1006.9|             2|         1|              2|                190|\n",
      "|  3| 17|01-jan-1990 03:00|             3|          0.0|             0|            7.8|             0|        7.5|  7.1| 10.1|               96|1007.1|             2|         1|              2|                190|\n",
      "|  4| 18|01-jan-1990 04:00|             3|          0.0|             0|            8.0|             0|        7.3|  6.5|  9.7|               90|1007.3|             2|         2|              2|                220|\n",
      "|  5| 19|01-jan-1990 05:00|             0|          0.0|             0|            7.6|             0|        7.0|  6.3|  9.5|               91|1007.4|             2|         3|              2|                220|\n",
      "|  6| 20|01-jan-1990 06:00|             2|          0.0|             0|            7.4|             0|        6.8|  6.1|  9.4|               91|1008.1|             2|         1|              2|                220|\n",
      "|  7| 21|01-jan-1990 07:00|             2|          0.0|             0|            6.8|             0|        6.0|  5.0|  8.7|               88|1008.3|             2|         4|              2|                230|\n",
      "|  8| 22|01-jan-1990 08:00|             2|          0.0|             0|            6.8|             0|        6.2|  5.5|  9.0|               91|1008.8|             2|         2|              2|                180|\n",
      "|  9| 23|01-jan-1990 09:00|             0|          0.0|             0|            7.2|             0|        6.1|  4.7|  8.5|               84|1009.4|             2|         1|              2|                210|\n",
      "| 10| 24|01-jan-1990 10:00|             0|          0.0|             0|            7.6|             0|        6.1|  4.2|  8.2|               79|1009.7|             2|         1|              2|                210|\n",
      "| 11| 25|01-jan-1990 11:00|             0|          0.0|             0|            8.0|             0|        6.6|  4.8|  8.6|               80|1010.2|             2|         5|              2|                210|\n",
      "| 12| 26|01-jan-1990 12:00|             0|          0.0|             0|            9.5|             0|        7.8|  5.8|  9.2|               78|1010.3|             2|         7|              2|                200|\n",
      "| 13| 27|01-jan-1990 13:00|             0|          0.0|             0|            9.3|             0|        7.0|  4.1|  8.2|               70|1010.1|             2|         9|              2|                200|\n",
      "| 14| 28|01-jan-1990 14:00|             0|          0.0|             0|            9.9|             0|        8.0|  5.8|  9.2|               75|1010.3|             2|         9|              2|                190|\n",
      "| 15| 29|01-jan-1990 15:00|             0|          0.0|             0|            9.0|             0|        7.5|  5.7|  9.2|               80|1010.2|             2|         7|              2|                170|\n",
      "| 16| 30|01-jan-1990 16:00|             2|          0.0|             0|            8.6|             0|        7.1|  5.3|  8.9|               80|1010.1|             2|         6|              2|                170|\n",
      "| 17| 31|01-jan-1990 17:00|             0|          0.0|             0|            8.2|             0|        6.6|  4.5|  8.5|               78|1010.3|             2|         5|              2|                180|\n",
      "| 18| 32|01-jan-1990 18:00|             0|          0.0|             0|            8.5|             0|        7.1|  5.4|  9.0|               81|1010.6|             2|        10|              2|                190|\n",
      "| 19| 33|01-jan-1990 19:00|             0|          0.0|             0|            8.2|             0|        6.8|  5.0|  8.8|               81|1010.3|             2|        12|              2|                170|\n",
      "+---+---+-----------------+--------------+-------------+--------------+---------------+--------------+-----------+-----+-----+-----------------+------+--------------+----------+---------------+-------------------+\n",
      "only showing top 20 rows\n",
      "\n"
     ]
    }
   ],
   "source": [
    "df0 = df.selectExpr(\"wetb as wetbulb\")\n",
    "df.withColumnRenamed(\"wetb\", \"rename_wetb\").show()"
   ]
  },
  {
   "cell_type": "code",
   "execution_count": 10,
   "id": "21140b8f-4962-4aea-9856-0103e4c35aa2",
   "metadata": {},
   "outputs": [
    {
     "data": {
      "text/plain": [
       "[('air_temperature', 'float')]"
      ]
     },
     "execution_count": 10,
     "metadata": {},
     "output_type": "execute_result"
    }
   ],
   "source": [
    "df1 = df.selectExpr(\"cast(air_temperature as float) air_temperature\") \n",
    "df1.dtypes"
   ]
  },
  {
   "cell_type": "code",
   "execution_count": 11,
   "id": "4deb01a6-8ab1-4d3f-9e4b-ed1ed4719e0e",
   "metadata": {},
   "outputs": [
    {
     "name": "stdout",
     "output_type": "stream",
     "text": [
      "+---------------+----------+---------------+-----------+\n",
      "|air_temperature|total_freq|unique_air_temp|unique_wetb|\n",
      "+---------------+----------+---------------+-----------+\n",
      "|           10.7|      1926|              1|         48|\n",
      "|            8.5|      1761|              1|         44|\n",
      "|           20.5|        70|              1|         33|\n",
      "|           -1.2|        24|              1|         12|\n",
      "|            1.0|        93|              1|         20|\n",
      "|            8.2|      1560|              1|         45|\n",
      "|            2.6|       342|              1|         29|\n",
      "|            7.3|      1230|              1|         43|\n",
      "|            3.1|       464|              1|         31|\n",
      "|           16.6|       994|              1|         51|\n",
      "|           12.8|      1623|              1|         48|\n",
      "|           14.2|      1655|              1|         51|\n",
      "|           17.1|       713|              1|         56|\n",
      "|           -2.4|        11|              1|          6|\n",
      "|            8.3|      1639|              1|         45|\n",
      "|           22.4|        16|              1|         16|\n",
      "|            4.2|       649|              1|         31|\n",
      "|           -0.1|        45|              1|         15|\n",
      "|            9.2|      1989|              1|         47|\n",
      "|           18.1|       365|              1|         56|\n",
      "+---------------+----------+---------------+-----------+\n",
      "only showing top 20 rows\n",
      "\n"
     ]
    }
   ],
   "source": [
    "df.createOrReplaceTempView(\"example\")\n",
    "pr = spark.sql(\"Select  air_temperature, count(air_temperature) AS total_freq, count(distinct air_temperature) AS unique_air_temp,count(distinct wetb) AS unique_wetb FROM example GROUP BY air_temperature\")\n",
    "pr.show()"
   ]
  },
  {
   "cell_type": "markdown",
   "id": "53be0136-a377-4b88-b4f7-c8f7f64fbcd8",
   "metadata": {},
   "source": [
    "In this way no data frame is required, you can create sql table directly from CSV file instead of from data frame"
   ]
  },
  {
   "cell_type": "code",
   "execution_count": 12,
   "id": "9a675371-45f6-4755-9036-8dcff106fefc",
   "metadata": {},
   "outputs": [
    {
     "data": {
      "text/plain": [
       "DataFrame[]"
      ]
     },
     "execution_count": 12,
     "metadata": {},
     "output_type": "execute_result"
    },
    {
     "name": "stdout",
     "output_type": "stream",
     "text": [
      "+---+-----------------+--------------+-------------+--------------+---------------+--------------+----+-----+-----+-----------------+------+--------------+----------+---------------+-------------------+\n",
      "|_c0|         dateTime|indicator_rain|precipitation|indicator_temp|air_temperature|indicator_wetb|wetb|dewpt|vappr|relative_humidity|   msl|indicator_wdsp|wind_speed|indicator_wddir|wind_from_direction|\n",
      "+---+-----------------+--------------+-------------+--------------+---------------+--------------+----+-----+-----+-----------------+------+--------------+----------+---------------+-------------------+\n",
      "| 14|01-jan-1990 00:00|             0|          0.3|             0|            9.1|             0| 9.0|  8.9| 11.4|               99|1006.7|             2|         7|              2|                190|\n",
      "| 15|01-jan-1990 01:00|             0|          0.2|             0|            8.2|             0| 7.4|  6.4|  9.7|               89|1006.7|             2|         5|              2|                220|\n",
      "| 16|01-jan-1990 02:00|             0|          0.0|             0|            7.9|             0| 7.4|  6.8|  9.9|               93|1006.9|             2|         1|              2|                190|\n",
      "| 17|01-jan-1990 03:00|             3|          0.0|             0|            7.8|             0| 7.5|  7.1| 10.1|               96|1007.1|             2|         1|              2|                190|\n",
      "| 18|01-jan-1990 04:00|             3|          0.0|             0|            8.0|             0| 7.3|  6.5|  9.7|               90|1007.3|             2|         2|              2|                220|\n",
      "+---+-----------------+--------------+-------------+--------------+---------------+--------------+----+-----+-----+-----------------+------+--------------+----------+---------------+-------------------+\n",
      "\n"
     ]
    }
   ],
   "source": [
    "spark.sql(f\"\"\"\n",
    "    CREATE OR REPLACE TEMPORARY VIEW example\n",
    "    USING csv\n",
    "    OPTIONS (\n",
    "        path '{local_path}',\n",
    "        header 'true',\n",
    "        inferSchema 'true'\n",
    "    )\n",
    "\"\"\")\n",
    "spark.sql(\"SELECT * FROM example LIMIT 5\").show()\n"
   ]
  },
  {
   "cell_type": "code",
   "execution_count": 13,
   "id": "a3c4d339-3301-49fb-88fc-0b0c51717af7",
   "metadata": {},
   "outputs": [],
   "source": [
    "import pandas as pd   \n",
    "import matplotlib.pyplot as plt"
   ]
  },
  {
   "cell_type": "code",
   "execution_count": 14,
   "id": "77b85585-2e06-4f4d-88fd-9c5a1d7de037",
   "metadata": {},
   "outputs": [
    {
     "data": {
      "text/plain": [
       "<Axes: xlabel='precipitation', ylabel='air_temperature'>"
      ]
     },
     "execution_count": 14,
     "metadata": {},
     "output_type": "execute_result"
    },
    {
     "data": {
      "image/png": "[encoded data removed]",
      "text/plain": [
       "<Figure size 640x480 with 1 Axes>"
      ]
     },
     "metadata": {
      "image/png": {
       "height": 426,
       "width": 555
      }
     },
     "output_type": "display_data"
    }
   ],
   "source": [
    "plt.style.use('seaborn-v0_8-white')\n",
    "dfpanda = df.toPandas()\n",
    "params = {'legend.fontsize': 'large', 'figure.figsize': (15, 9), 'axes.labelsize': 'x-large', 'axes.titlesize':'x-large', 'xtick.labelsize':'large', 'ytick.labelsize':'large'}\n",
    "dfpanda['precipitation'] = pd.to_numeric(dfpanda.precipitation,errors='coerce') \n",
    "dfpanda['air_temperature'] = pd.to_numeric(dfpanda.air_temperature,errors='coerce') \n",
    "dfpanda.plot(kind='scatter',x='precipitation',y='air_temperature') "
   ]
  },
  {
   "cell_type": "code",
   "execution_count": null,
   "id": "3ad8281a-95d5-429d-b8d3-a703ebba0e20",
   "metadata": {},
   "outputs": [],
   "source": []
  }
 ],
 "metadata": {
  "kernelspec": {
   "display_name": "Python 3 (ipykernel)",
   "language": "python",
   "name": "python3"
  },
  "language_info": {
   "codemirror_mode": {
    "name": "ipython",
    "version": 3
   },
   "file_extension": ".py",
   "mimetype": "text/x-python",
   "name": "python",
   "nbconvert_exporter": "python",
   "pygments_lexer": "ipython3",
   "version": "3.11.9"
  }
 },
 "nbformat": 4,
 "nbformat_minor": 5
}

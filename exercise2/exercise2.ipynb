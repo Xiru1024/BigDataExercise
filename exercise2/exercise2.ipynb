{
 "cells": [
  {
   "cell_type": "code",
   "execution_count": 1,
   "id": "c7b150bb-97eb-4aee-8ef2-52a19b0837ef",
   "metadata": {},
   "outputs": [],
   "source": [
    "%matplotlib inline \n",
    "%config InlineBackend.figure_format = 'retina' \n",
    "from IPython.core.interactiveshell import InteractiveShell \n",
    "InteractiveShell.ast_node_interactivity = \"all\"\n",
    "import sys\n",
    "import requests\n",
    "import time\n",
    "from pyspark.sql import SparkSession, functions as F\n",
    "#parameter for master can be changed depending on the environment\n",
    "\n",
    "spark = SparkSession.builder.master(\"local\").appName(\"Exercise2\").getOrCreate()\n",
    "url = \"https://raw.githubusercontent.com/Xiru1024/BigDataExercise/refs/heads/main/exampleData.csv\"\n",
    "local_path = \"/home/jovyan/BigDataExercise/exercise2/example.csv\"\n",
    "with open(local_path, \"wb\") as f:\n",
    "    f.write(requests.get(url).content)\n",
    "df = spark.read.csv(local_path, header=True, inferSchema=True) "
   ]
  },
  {
   "cell_type": "code",
   "execution_count": 2,
   "id": "7feff826-8fb0-4d74-9eb0-e6bb6c269685",
   "metadata": {},
   "outputs": [
    {
     "name": "stdout",
     "output_type": "stream",
     "text": [
      "root\n",
      " |-- _c0: integer (nullable = true)\n",
      " |-- dateTime: string (nullable = true)\n",
      " |-- indicator_rain: integer (nullable = true)\n",
      " |-- precipitation: string (nullable = true)\n",
      " |-- indicator_temp: integer (nullable = true)\n",
      " |-- air_temperature: string (nullable = true)\n",
      " |-- indicator_wetb: integer (nullable = true)\n",
      " |-- wetb: string (nullable = true)\n",
      " |-- dewpt: string (nullable = true)\n",
      " |-- vappr: string (nullable = true)\n",
      " |-- relative_humidity: string (nullable = true)\n",
      " |-- msl: string (nullable = true)\n",
      " |-- indicator_wdsp: integer (nullable = true)\n",
      " |-- wind_speed: string (nullable = true)\n",
      " |-- indicator_wddir: integer (nullable = true)\n",
      " |-- wind_from_direction: integer (nullable = true)\n",
      "\n"
     ]
    }
   ],
   "source": [
    "df.createOrReplaceTempView(\"weatherConditions\")\n",
    "df.printSchema()\n",
    "staticSchema = df.schema\n"
   ]
  },
  {
   "cell_type": "markdown",
   "id": "351e1565-da29-4764-98eb-76aeab687555",
   "metadata": {},
   "source": [
    "read streaming"
   ]
  },
  {
   "cell_type": "code",
   "execution_count": 3,
   "id": "e9b2269f-73d3-4d94-aa70-791641a4868e",
   "metadata": {},
   "outputs": [],
   "source": [
    "streamingDF = spark.readStream\\\n",
    ".schema(staticSchema)\\\n",
    ".option(\"maxFilesPerTrigger\", 2)\\\n",
    ".format(\"csv\")\\\n",
    ".option(\"header\", \"true\")\\\n",
    ".load(\"/home/jovyan/BigDataExercise/exercise2/\")"
   ]
  },
  {
   "cell_type": "code",
   "execution_count": 4,
   "id": "36ac3256-2a7b-434c-a0c7-36fb68902eb0",
   "metadata": {},
   "outputs": [
    {
     "data": {
      "text/plain": [
       "True"
      ]
     },
     "execution_count": 4,
     "metadata": {},
     "output_type": "execute_result"
    }
   ],
   "source": [
    "streamingDF.isStreaming"
   ]
  },
  {
   "cell_type": "code",
   "execution_count": 5,
   "id": "d79ea745-cbc3-4da5-93b9-f9a31e09bc06",
   "metadata": {},
   "outputs": [],
   "source": [
    "filteredDF = streamingDF.filter((F.col('air_temperature')<5))"
   ]
  },
  {
   "cell_type": "markdown",
   "id": "08e9a7e4-41fb-47f5-bcd9-0389a022ef0d",
   "metadata": {},
   "source": [
    "Write Stream to a sink"
   ]
  },
  {
   "cell_type": "code",
   "execution_count": 6,
   "id": "7eccf13d-b8c1-4055-b9d7-2085d649d655",
   "metadata": {},
   "outputs": [
    {
     "name": "stdout",
     "output_type": "stream",
     "text": [
      "+---+-----------------+--------------+-------------+--------------+---------------+--------------+----+-----+-----+-----------------+------+--------------+----------+---------------+-------------------+\n",
      "|_c0|         dateTime|indicator_rain|precipitation|indicator_temp|air_temperature|indicator_wetb|wetb|dewpt|vappr|relative_humidity|   msl|indicator_wdsp|wind_speed|indicator_wddir|wind_from_direction|\n",
      "+---+-----------------+--------------+-------------+--------------+---------------+--------------+----+-----+-----+-----------------+------+--------------+----------+---------------+-------------------+\n",
      "|298|12-jan-1990 20:00|             3|          0.0|             0|            4.9|             0| 4.3|  3.4|  7.8|               90|1025.5|             2|         1|              2|                210|\n",
      "|300|12-jan-1990 22:00|             3|          0.0|             0|            3.9|             0| 3.2|  2.1|  7.1|               88|1025.9|             2|         1|              2|                260|\n",
      "|301|12-jan-1990 23:00|             3|          0.0|             0|            4.4|             0| 3.6|  2.4|  7.3|               87|1025.8|             2|         1|              2|                340|\n",
      "|302|13-jan-1990 00:00|             3|          0.0|             0|            4.2|             0| 3.3|  1.9|  7.0|               85|1026.4|             2|         1|              2|                280|\n",
      "|303|13-jan-1990 01:00|             3|          0.0|             0|            3.5|             0| 2.6|  1.2|  6.6|               85|1026.4|             2|         1|              2|                320|\n",
      "|304|13-jan-1990 02:00|             3|          0.0|             0|            3.8|             0| 3.1|  2.0|  7.1|               88|1026.2|             2|         1|              2|                330|\n",
      "|305|13-jan-1990 03:00|             3|          0.0|             0|            4.0|             0| 3.5|  2.8|  7.4|               92|1026.0|             2|         1|              2|                300|\n",
      "|405|17-jan-1990 07:00|             0|          1.5|             0|            3.5|             0| 3.0|  2.3|  7.2|               91|1020.7|             2|        18|              2|                250|\n",
      "|406|17-jan-1990 08:00|             0|          0.0|             0|            4.2|             0| 3.3|  1.9|  7.0|               85|1021.5|             2|        16|              2|                260|\n",
      "|407|17-jan-1990 09:00|             0|          0.0|             0|            4.1|             0| 3.4|  2.3|  7.2|               88|1022.7|             2|        15|              2|                270|\n",
      "|418|17-jan-1990 20:00|             0|          0.0|             0|            4.3|             0| 3.4|  2.0|  7.1|               85|1026.9|             2|        11|              2|                250|\n",
      "|419|17-jan-1990 21:00|             0|          0.0|             0|            4.4|             0| 3.5|  2.1|  7.1|               85|1027.0|             2|         9|              2|                250|\n",
      "|560|23-jan-1990 18:00|             0|          0.0|             0|            4.9|             0| 3.0| -0.1|  6.1|               70|1003.1|             2|        16|              2|                270|\n",
      "|561|23-jan-1990 19:00|             0|          0.0|             0|            4.2|             0| 2.7|  0.2|  6.2|               75|1003.6|             2|         9|              2|                280|\n",
      "|562|23-jan-1990 20:00|             0|          0.0|             0|            3.7|             0| 1.8| -1.6|  5.4|               68|1003.5|             2|         6|              2|                260|\n",
      "|563|23-jan-1990 21:00|             0|          0.0|             0|            3.8|             0| 2.0| -1.2|  5.6|               70|1003.9|             2|         9|              2|                230|\n",
      "|564|23-jan-1990 22:00|             0|          0.0|             0|            3.4|             0| 2.0| -0.4|  5.9|               76|1003.3|             2|        10|              2|                220|\n",
      "|567|24-jan-1990 01:00|             0|          1.3|             0|            4.2|             0| 3.6|  2.7|  7.4|               90|1002.1|             2|        21|              2|                250|\n",
      "|568|24-jan-1990 02:00|             2|          0.0|             0|            4.1|             0| 3.1|  1.5|  6.8|               83|1002.8|             2|        18|              2|                290|\n",
      "|569|24-jan-1990 03:00|             2|          0.0|             0|            3.4|             0| 2.6|  1.3|  6.7|               86|1003.7|             2|        16|              2|                280|\n",
      "+---+-----------------+--------------+-------------+--------------+---------------+--------------+----+-----+-----+-----------------+------+--------------+----------+---------------+-------------------+\n",
      "only showing top 20 rows\n",
      "\n"
     ]
    }
   ],
   "source": [
    "df = filteredDF.writeStream.format(\"memory\") \\\n",
    ".queryName(\"weatherQuery\") \\\n",
    ".outputMode(\"append\") \\\n",
    ".trigger(once=True)\\\n",
    ".start()\n",
    "\n",
    "time.sleep(10)\n",
    "spark.sql(\"SELECT * FROM weatherQuery\").show()"
   ]
  },
  {
   "cell_type": "code",
   "execution_count": 7,
   "id": "140e628f-708b-4320-9c5d-b6cde20f0040",
   "metadata": {},
   "outputs": [],
   "source": [
    "df.awaitTermination()"
   ]
  }
 ],
 "metadata": {
  "kernelspec": {
   "display_name": "Python 3 (ipykernel)",
   "language": "python",
   "name": "python3"
  },
  "language_info": {
   "codemirror_mode": {
    "name": "ipython",
    "version": 3
   },
   "file_extension": ".py",
   "mimetype": "text/x-python",
   "name": "python",
   "nbconvert_exporter": "python",
   "pygments_lexer": "ipython3",
   "version": "3.11.9"
  }
 },
 "nbformat": 4,
 "nbformat_minor": 5
}
